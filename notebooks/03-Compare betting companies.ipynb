{
 "cells": [
  {
   "cell_type": "markdown",
   "metadata": {},
   "source": [
    "# Compare betting companies"
   ]
  },
  {
   "cell_type": "code",
   "execution_count": 1,
   "metadata": {},
   "outputs": [],
   "source": [
    "import pandas as pd\n",
    "from sklearn.model_selection import train_test_split\n",
    "from sklearn.preprocessing import StandardScaler"
   ]
  },
  {
   "cell_type": "code",
   "execution_count": 2,
   "metadata": {},
   "outputs": [
    {
     "name": "stdout",
     "output_type": "stream",
     "text": [
      "<class 'pandas.core.frame.DataFrame'>\n",
      "RangeIndex: 22467 entries, 0 to 22466\n",
      "Data columns (total 19 columns):\n",
      " #   Column            Non-Null Count  Dtype  \n",
      "---  ------            --------------  -----  \n",
      " 0   id                22467 non-null  int64  \n",
      " 1   date              22467 non-null  object \n",
      " 2   season_name       22467 non-null  object \n",
      " 3   match_api_id      22467 non-null  int64  \n",
      " 4   home_team_api_id  22467 non-null  int64  \n",
      " 5   away_team_api_id  22467 non-null  int64  \n",
      " 6   win_lose_draw     22467 non-null  object \n",
      " 7   B365H             22467 non-null  float64\n",
      " 8   B365D             22467 non-null  float64\n",
      " 9   B365A             22467 non-null  float64\n",
      " 10  BWH               22467 non-null  float64\n",
      " 11  BWD               22467 non-null  float64\n",
      " 12  BWA               22467 non-null  float64\n",
      " 13  IWH               22467 non-null  float64\n",
      " 14  IWD               22467 non-null  float64\n",
      " 15  IWA               22467 non-null  float64\n",
      " 16  LBH               22467 non-null  float64\n",
      " 17  LBD               22467 non-null  float64\n",
      " 18  LBA               22467 non-null  float64\n",
      "dtypes: float64(12), int64(4), object(3)\n",
      "memory usage: 3.3+ MB\n"
     ]
    }
   ],
   "source": [
    "df = pd.read_csv('../data/matches.csv')\n",
    "df.info()"
   ]
  },
  {
   "cell_type": "code",
   "execution_count": 3,
   "metadata": {},
   "outputs": [],
   "source": [
    "feature_cols = list(\n",
    "    set(df.columns.tolist()) - \n",
    "    {'id', 'date', 'match_api_id', 'home_team_api_id', 'away_team_api_id', 'win_lose_draw', 'season_name'}\n",
    "    )\n",
    "target_label = 'win_lose_draw'\n",
    "\n",
    "X_B365 = df[[feature for feature in feature_cols if feature.startswith('B365')]]\n",
    "X_BW = df[[feature for feature in feature_cols if feature.startswith('BW')]]\n",
    "X_IW = df[[feature for feature in feature_cols if feature.startswith('IW')]]\n",
    "X_LB = df[[feature for feature in feature_cols if feature.startswith('LB')]]\n",
    "\n",
    "y = df[target_label]"
   ]
  },
  {
   "cell_type": "code",
   "execution_count": 33,
   "metadata": {},
   "outputs": [
    {
     "name": "stdout",
     "output_type": "stream",
     "text": [
      "   B365D  B365H  B365A win_lose_draw\n",
      "0   3.40   1.73   5.00             D\n",
      "1   3.20   1.95   3.60             D\n",
      "2   3.30   2.38   2.75             A\n",
      "3   3.75   1.44   7.50             H\n",
      "4   3.50   5.00   1.65             A\n",
      "    BWA   BWH   BWD\n",
      "0  4.20  1.75  3.35\n",
      "1  3.95  1.80  3.30\n",
      "2  2.55  2.40  3.30\n",
      "3  6.80  1.40  4.00\n",
      "4  1.60  5.00  3.50\n",
      "   IWD   IWH  IWA\n",
      "0  3.2  1.85  3.5\n",
      "1  3.2  1.90  3.5\n",
      "2  3.1  2.60  2.3\n",
      "3  3.9  1.40  6.0\n",
      "4  3.3  4.00  1.7\n",
      "   LBD   LBH   LBA\n",
      "0  3.3  1.80  3.75\n",
      "1  3.2  1.90  3.50\n",
      "2  3.2  2.50  2.50\n",
      "3  3.6  1.44  6.50\n",
      "4  3.4  4.00  1.72\n"
     ]
    }
   ],
   "source": [
    "print(pd.concat([X_B365, y], axis=1).head())\n",
    "print(X_BW.head())\n",
    "print(X_IW.head())\n",
    "print(X_LB.head())"
   ]
  },
  {
   "cell_type": "markdown",
   "metadata": {},
   "source": [
    "## Non-Linear Multi Layer Perceptron, 3 hidden layers"
   ]
  },
  {
   "cell_type": "code",
   "execution_count": 4,
   "metadata": {},
   "outputs": [],
   "source": [
    "from sklearn.neural_network import MLPClassifier\n",
    "from numpy import mean, std\n",
    "from sklearn.model_selection import KFold, cross_val_score"
   ]
  },
  {
   "cell_type": "markdown",
   "metadata": {},
   "source": [
    "### B356"
   ]
  },
  {
   "cell_type": "code",
   "execution_count": 5,
   "metadata": {},
   "outputs": [],
   "source": [
    "X_train, X_test, y_train, y_test = train_test_split(X_B365, y, test_size=0.2, random_state=42)\n",
    "scaler = StandardScaler()\n",
    "X_train = scaler.fit_transform(X_train)\n",
    "X_test = scaler.transform(X_test)"
   ]
  },
  {
   "cell_type": "code",
   "execution_count": 6,
   "metadata": {},
   "outputs": [
    {
     "name": "stdout",
     "output_type": "stream",
     "text": [
      "Accuracy of MLP classifier on training set: 0.53\n",
      "Accuracy of MLP classifier on test set: 0.54\n"
     ]
    }
   ],
   "source": [
    "mlp = MLPClassifier(random_state=42, activation='relu', hidden_layer_sizes=(10, 10, 10))\n",
    "mlp.fit(X_train, y_train)\n",
    "\n",
    "print('Accuracy of MLP classifier on training set: {:.2f}'\n",
    "     .format(mlp.score(X_train, y_train)))\n",
    "print('Accuracy of MLP classifier on test set: {:.2f}'\n",
    "     .format(mlp.score(X_test, y_test)))"
   ]
  },
  {
   "cell_type": "code",
   "execution_count": 7,
   "metadata": {},
   "outputs": [
    {
     "name": "stdout",
     "output_type": "stream",
     "text": [
      "Accuracy: 0.53198 (0.01047)\n"
     ]
    }
   ],
   "source": [
    "scores = cross_val_score(mlp, X_B365, y, cv=KFold(n_splits=10, random_state=42, shuffle=True))\n",
    "print('Accuracy: %.5f (%.5f)' % (mean(scores), std(scores)))"
   ]
  },
  {
   "cell_type": "markdown",
   "metadata": {},
   "source": [
    "### BW"
   ]
  },
  {
   "cell_type": "code",
   "execution_count": 8,
   "metadata": {},
   "outputs": [],
   "source": [
    "X_train, X_test, y_train, y_test = train_test_split(X_BW, y, test_size=0.2, random_state=42)\n",
    "scaler = StandardScaler()\n",
    "X_train = scaler.fit_transform(X_train)\n",
    "X_test = scaler.transform(X_test)"
   ]
  },
  {
   "cell_type": "code",
   "execution_count": 9,
   "metadata": {},
   "outputs": [
    {
     "name": "stdout",
     "output_type": "stream",
     "text": [
      "Accuracy of MLP classifier on training set: 0.53\n",
      "Accuracy of MLP classifier on test set: 0.54\n"
     ]
    }
   ],
   "source": [
    "mlp = MLPClassifier(random_state=42, activation='relu', hidden_layer_sizes=(10, 10, 10))\n",
    "mlp.fit(X_train, y_train)\n",
    "\n",
    "print('Accuracy of MLP classifier on training set: {:.2f}'\n",
    "     .format(mlp.score(X_train, y_train)))\n",
    "print('Accuracy of MLP classifier on test set: {:.2f}'\n",
    "     .format(mlp.score(X_test, y_test)))"
   ]
  },
  {
   "cell_type": "code",
   "execution_count": 10,
   "metadata": {},
   "outputs": [
    {
     "name": "stdout",
     "output_type": "stream",
     "text": [
      "Accuracy: 0.53162 (0.01124)\n"
     ]
    }
   ],
   "source": [
    "scores = cross_val_score(mlp, X_BW, y, cv=KFold(n_splits=10, random_state=42, shuffle=True))\n",
    "print('Accuracy: %.5f (%.5f)' % (mean(scores), std(scores)))"
   ]
  },
  {
   "cell_type": "markdown",
   "metadata": {},
   "source": [
    "### IW"
   ]
  },
  {
   "cell_type": "code",
   "execution_count": 11,
   "metadata": {},
   "outputs": [],
   "source": [
    "X_train, X_test, y_train, y_test = train_test_split(X_IW, y, test_size=0.2, random_state=42)\n",
    "scaler = StandardScaler()\n",
    "X_train = scaler.fit_transform(X_train)\n",
    "X_test = scaler.transform(X_test)"
   ]
  },
  {
   "cell_type": "code",
   "execution_count": 12,
   "metadata": {},
   "outputs": [
    {
     "name": "stdout",
     "output_type": "stream",
     "text": [
      "Accuracy of MLP classifier on training set: 0.53\n",
      "Accuracy of MLP classifier on test set: 0.53\n"
     ]
    }
   ],
   "source": [
    "mlp = MLPClassifier(random_state=42, activation='relu', hidden_layer_sizes=(10, 10, 10))\n",
    "mlp.fit(X_train, y_train)\n",
    "\n",
    "print('Accuracy of MLP classifier on training set: {:.2f}'\n",
    "     .format(mlp.score(X_train, y_train)))\n",
    "print('Accuracy of MLP classifier on test set: {:.2f}'\n",
    "     .format(mlp.score(X_test, y_test)))"
   ]
  },
  {
   "cell_type": "code",
   "execution_count": 13,
   "metadata": {},
   "outputs": [
    {
     "name": "stdout",
     "output_type": "stream",
     "text": [
      "Accuracy: 0.53033 (0.01127)\n"
     ]
    }
   ],
   "source": [
    "scores = cross_val_score(mlp, X_IW, y, cv=KFold(n_splits=10, random_state=42, shuffle=True))\n",
    "print('Accuracy: %.5f (%.5f)' % (mean(scores), std(scores)))"
   ]
  },
  {
   "cell_type": "markdown",
   "metadata": {},
   "source": [
    "### LB"
   ]
  },
  {
   "cell_type": "code",
   "execution_count": 14,
   "metadata": {},
   "outputs": [],
   "source": [
    "X_train, X_test, y_train, y_test = train_test_split(X_LB, y, test_size=0.2, random_state=42)\n",
    "scaler = StandardScaler()\n",
    "X_train = scaler.fit_transform(X_train)\n",
    "X_test = scaler.transform(X_test)"
   ]
  },
  {
   "cell_type": "code",
   "execution_count": 15,
   "metadata": {},
   "outputs": [
    {
     "name": "stdout",
     "output_type": "stream",
     "text": [
      "Accuracy of MLP classifier on training set: 0.53\n",
      "Accuracy of MLP classifier on test set: 0.53\n"
     ]
    }
   ],
   "source": [
    "mlp = MLPClassifier(random_state=42, activation='relu', hidden_layer_sizes=(10, 10, 10))\n",
    "mlp.fit(X_train, y_train)\n",
    "\n",
    "print('Accuracy of MLP classifier on training set: {:.2f}'\n",
    "     .format(mlp.score(X_train, y_train)))\n",
    "print('Accuracy of MLP classifier on test set: {:.2f}'\n",
    "     .format(mlp.score(X_test, y_test)))"
   ]
  },
  {
   "cell_type": "code",
   "execution_count": 16,
   "metadata": {},
   "outputs": [
    {
     "name": "stdout",
     "output_type": "stream",
     "text": [
      "Accuracy: 0.53051 (0.01090)\n"
     ]
    }
   ],
   "source": [
    "scores = cross_val_score(mlp, X_LB, y, cv=KFold(n_splits=10, random_state=42, shuffle=True))\n",
    "print('Accuracy: %.5f (%.5f)' % (mean(scores), std(scores)))"
   ]
  },
  {
   "cell_type": "markdown",
   "metadata": {},
   "source": [
    "## Linear Multi Layer Perceptron, one hidden layer"
   ]
  },
  {
   "cell_type": "markdown",
   "metadata": {},
   "source": [
    "### B356"
   ]
  },
  {
   "cell_type": "code",
   "execution_count": 17,
   "metadata": {},
   "outputs": [],
   "source": [
    "X_train, X_test, y_train, y_test = train_test_split(X_B365, y, test_size=0.2, random_state=42)\n",
    "scaler = StandardScaler()\n",
    "X_train = scaler.fit_transform(X_train)\n",
    "X_test = scaler.transform(X_test)"
   ]
  },
  {
   "cell_type": "code",
   "execution_count": 18,
   "metadata": {},
   "outputs": [
    {
     "name": "stdout",
     "output_type": "stream",
     "text": [
      "Accuracy of MLP classifier on training set: 0.53\n",
      "Accuracy of MLP classifier on test set: 0.53\n"
     ]
    }
   ],
   "source": [
    "mlp = MLPClassifier(random_state=42, activation='identity', hidden_layer_sizes=(100,))\n",
    "mlp.fit(X_train, y_train)\n",
    "\n",
    "print('Accuracy of MLP classifier on training set: {:.2f}'\n",
    "     .format(mlp.score(X_train, y_train)))\n",
    "print('Accuracy of MLP classifier on test set: {:.2f}'\n",
    "     .format(mlp.score(X_test, y_test)))"
   ]
  },
  {
   "cell_type": "code",
   "execution_count": 19,
   "metadata": {},
   "outputs": [
    {
     "name": "stdout",
     "output_type": "stream",
     "text": [
      "Accuracy: 0.53216 (0.01081)\n"
     ]
    }
   ],
   "source": [
    "scores = cross_val_score(mlp, X_B365, y, cv=KFold(n_splits=10, random_state=42, shuffle=True))\n",
    "print('Accuracy: %.5f (%.5f)' % (mean(scores), std(scores)))"
   ]
  },
  {
   "cell_type": "markdown",
   "metadata": {},
   "source": [
    "### BW"
   ]
  },
  {
   "cell_type": "code",
   "execution_count": 20,
   "metadata": {},
   "outputs": [],
   "source": [
    "X_train, X_test, y_train, y_test = train_test_split(X_BW, y, test_size=0.2, random_state=42)\n",
    "scaler = StandardScaler()\n",
    "X_train = scaler.fit_transform(X_train)\n",
    "X_test = scaler.transform(X_test)"
   ]
  },
  {
   "cell_type": "code",
   "execution_count": 21,
   "metadata": {},
   "outputs": [
    {
     "name": "stdout",
     "output_type": "stream",
     "text": [
      "Accuracy of MLP classifier on training set: 0.53\n",
      "Accuracy of MLP classifier on test set: 0.53\n"
     ]
    }
   ],
   "source": [
    "mlp = MLPClassifier(random_state=42, activation='identity', hidden_layer_sizes=(100,))\n",
    "mlp.fit(X_train, y_train)\n",
    "\n",
    "print('Accuracy of MLP classifier on training set: {:.2f}'\n",
    "     .format(mlp.score(X_train, y_train)))\n",
    "print('Accuracy of MLP classifier on test set: {:.2f}'\n",
    "     .format(mlp.score(X_test, y_test)))"
   ]
  },
  {
   "cell_type": "code",
   "execution_count": 22,
   "metadata": {},
   "outputs": [
    {
     "name": "stdout",
     "output_type": "stream",
     "text": [
      "Accuracy: 0.53082 (0.01009)\n"
     ]
    }
   ],
   "source": [
    "scores = cross_val_score(mlp, X_BW, y, cv=KFold(n_splits=10, random_state=42, shuffle=True))\n",
    "print('Accuracy: %.5f (%.5f)' % (mean(scores), std(scores)))"
   ]
  },
  {
   "cell_type": "markdown",
   "metadata": {},
   "source": [
    "### IW"
   ]
  },
  {
   "cell_type": "code",
   "execution_count": 23,
   "metadata": {},
   "outputs": [],
   "source": [
    "X_train, X_test, y_train, y_test = train_test_split(X_IW, y, test_size=0.2, random_state=42)\n",
    "scaler = StandardScaler()\n",
    "X_train = scaler.fit_transform(X_train)\n",
    "X_test = scaler.transform(X_test)"
   ]
  },
  {
   "cell_type": "code",
   "execution_count": 24,
   "metadata": {},
   "outputs": [
    {
     "name": "stdout",
     "output_type": "stream",
     "text": [
      "Accuracy of MLP classifier on training set: 0.53\n",
      "Accuracy of MLP classifier on test set: 0.53\n"
     ]
    }
   ],
   "source": [
    "mlp = MLPClassifier(random_state=42, activation='identity', hidden_layer_sizes=(100,))\n",
    "mlp.fit(X_train, y_train)\n",
    "\n",
    "print('Accuracy of MLP classifier on training set: {:.2f}'\n",
    "     .format(mlp.score(X_train, y_train)))\n",
    "print('Accuracy of MLP classifier on test set: {:.2f}'\n",
    "     .format(mlp.score(X_test, y_test)))"
   ]
  },
  {
   "cell_type": "code",
   "execution_count": 25,
   "metadata": {},
   "outputs": [
    {
     "name": "stdout",
     "output_type": "stream",
     "text": [
      "Accuracy: 0.52878 (0.01265)\n"
     ]
    }
   ],
   "source": [
    "scores = cross_val_score(mlp, X_IW, y, cv=KFold(n_splits=10, random_state=42, shuffle=True))\n",
    "print('Accuracy: %.5f (%.5f)' % (mean(scores), std(scores)))"
   ]
  },
  {
   "cell_type": "markdown",
   "metadata": {},
   "source": [
    "### LB"
   ]
  },
  {
   "cell_type": "code",
   "execution_count": 26,
   "metadata": {},
   "outputs": [],
   "source": [
    "X_train, X_test, y_train, y_test = train_test_split(X_LB, y, test_size=0.2, random_state=42)\n",
    "scaler = StandardScaler()\n",
    "X_train = scaler.fit_transform(X_train)\n",
    "X_test = scaler.transform(X_test)"
   ]
  },
  {
   "cell_type": "code",
   "execution_count": 27,
   "metadata": {},
   "outputs": [
    {
     "name": "stdout",
     "output_type": "stream",
     "text": [
      "Accuracy of MLP classifier on training set: 0.53\n",
      "Accuracy of MLP classifier on test set: 0.53\n"
     ]
    }
   ],
   "source": [
    "mlp = MLPClassifier(random_state=42, activation='identity', hidden_layer_sizes=(100,))\n",
    "mlp.fit(X_train, y_train)\n",
    "\n",
    "print('Accuracy of MLP classifier on training set: {:.2f}'\n",
    "     .format(mlp.score(X_train, y_train)))\n",
    "print('Accuracy of MLP classifier on test set: {:.2f}'\n",
    "     .format(mlp.score(X_test, y_test)))"
   ]
  },
  {
   "cell_type": "code",
   "execution_count": 28,
   "metadata": {},
   "outputs": [
    {
     "name": "stdout",
     "output_type": "stream",
     "text": [
      "Accuracy: 0.53016 (0.01125)\n"
     ]
    }
   ],
   "source": [
    "scores = cross_val_score(mlp, X_LB, y, cv=KFold(n_splits=10, random_state=42, shuffle=True))\n",
    "print('Accuracy: %.5f (%.5f)' % (mean(scores), std(scores)))"
   ]
  },
  {
   "cell_type": "markdown",
   "metadata": {},
   "source": [
    "# Conclusion\n",
    "\n",
    "It seems that for all the betting companies, the MLP model performs the same, regardless of the non-linear or linear model and the number of layers.\n"
   ]
  },
  {
   "cell_type": "markdown",
   "metadata": {},
   "source": []
  }
 ],
 "metadata": {
  "interpreter": {
   "hash": "3067ead486e059ec00ffe7555bdb889e6e264a24dc711bf108106cc7baee8d5d"
  },
  "kernelspec": {
   "display_name": "Python 3.8.8 ('base')",
   "language": "python",
   "name": "python3"
  },
  "language_info": {
   "codemirror_mode": {
    "name": "ipython",
    "version": 3
   },
   "file_extension": ".py",
   "mimetype": "text/x-python",
   "name": "python",
   "nbconvert_exporter": "python",
   "pygments_lexer": "ipython3",
   "version": "3.8.8"
  },
  "orig_nbformat": 4
 },
 "nbformat": 4,
 "nbformat_minor": 2
}
