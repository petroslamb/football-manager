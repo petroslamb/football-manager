{
 "cells": [
  {
   "cell_type": "markdown",
   "metadata": {},
   "source": [
    "# Download, extract, and process the data"
   ]
  },
  {
   "cell_type": "code",
   "execution_count": 97,
   "metadata": {},
   "outputs": [
    {
     "name": "stdout",
     "output_type": "stream",
     "text": [
      "Data already downloaded at: ../data/database.sqlite\n"
     ]
    }
   ],
   "source": [
    "import os\n",
    "\n",
    "database_path = '../data/database.sqlite'\n",
    "\n",
    "if not os.path.exists(database_path):\n",
    "    raise FileNotFoundError(f'{database_path} not found. Get the data from https://www.kaggle.com/hugomathien/soccer/download and unzip it inside the data folder')\n",
    "else:\n",
    "    print('Data already downloaded at:', database_path)"
   ]
  },
  {
   "cell_type": "markdown",
   "metadata": {},
   "source": [
    "## Import tables as dataframes"
   ]
  },
  {
   "cell_type": "code",
   "execution_count": 98,
   "metadata": {},
   "outputs": [],
   "source": [
    "import sqlite3\n",
    "import pandas as pd\n",
    "# Create your connection.\n",
    "cnx = sqlite3.connect(database_path)\n",
    "\n",
    "query_matches = \"\"\"SELECT \n",
    "    id, \n",
    "    date, \n",
    "    season as season_name, \n",
    "    match_api_id, \n",
    "    home_team_api_id, away_team_api_id, \n",
    "    -- (home_team_goal - away_team_goal) as goal_diff,\n",
    "    CASE \n",
    "        WHEN home_team_goal > away_team_goal THEN 'H'\n",
    "        WHEN home_team_goal < away_team_goal THEN 'A' \n",
    "        ELSE 'D'\n",
    "        END as win_lose_draw,\n",
    "    B365H, B365D, B365A, BWH, BWD, BWA, IWH, IWD, IWA, LBH, LBD, LBA\n",
    "    -- ,  WHH, WHD, WHA, SJH, SJD, SJA, VCH, VCD, VCA, GBH, GBD, GBA, BSH, BSD, BSA\n",
    "    FROM Match;\n",
    "\"\"\" \n",
    "\n",
    "query_team_attributes = \"\"\"SELECT\n",
    "id, team_api_id, date, buildUpPlaySpeed, buildUpPlayPassing, chanceCreationPassing, chanceCreationCrossing, chanceCreationShooting, defencePressure, defenceAggression, defenceTeamWidth\n",
    "FROM Team_Attributes;\n",
    "\"\"\"\n",
    "\n",
    "df = pd.read_sql_query(query_matches, cnx)\n",
    "ta_df = pd.read_sql_query(query_team_attributes, cnx)"
   ]
  },
  {
   "cell_type": "markdown",
   "metadata": {},
   "source": [
    "## Check Match table and remove null values"
   ]
  },
  {
   "cell_type": "code",
   "execution_count": 99,
   "metadata": {},
   "outputs": [
    {
     "data": {
      "text/html": [
       "<div>\n",
       "<style scoped>\n",
       "    .dataframe tbody tr th:only-of-type {\n",
       "        vertical-align: middle;\n",
       "    }\n",
       "\n",
       "    .dataframe tbody tr th {\n",
       "        vertical-align: top;\n",
       "    }\n",
       "\n",
       "    .dataframe thead th {\n",
       "        text-align: right;\n",
       "    }\n",
       "</style>\n",
       "<table border=\"1\" class=\"dataframe\">\n",
       "  <thead>\n",
       "    <tr style=\"text-align: right;\">\n",
       "      <th></th>\n",
       "      <th>id</th>\n",
       "      <th>date</th>\n",
       "      <th>season_name</th>\n",
       "      <th>match_api_id</th>\n",
       "      <th>home_team_api_id</th>\n",
       "      <th>away_team_api_id</th>\n",
       "      <th>win_lose_draw</th>\n",
       "      <th>B365H</th>\n",
       "      <th>B365D</th>\n",
       "      <th>B365A</th>\n",
       "      <th>BWH</th>\n",
       "      <th>BWD</th>\n",
       "      <th>BWA</th>\n",
       "      <th>IWH</th>\n",
       "      <th>IWD</th>\n",
       "      <th>IWA</th>\n",
       "      <th>LBH</th>\n",
       "      <th>LBD</th>\n",
       "      <th>LBA</th>\n",
       "    </tr>\n",
       "  </thead>\n",
       "  <tbody>\n",
       "    <tr>\n",
       "      <th>0</th>\n",
       "      <td>1</td>\n",
       "      <td>2008-08-17 00:00:00</td>\n",
       "      <td>2008/2009</td>\n",
       "      <td>492473</td>\n",
       "      <td>9987</td>\n",
       "      <td>9993</td>\n",
       "      <td>D</td>\n",
       "      <td>1.73</td>\n",
       "      <td>3.40</td>\n",
       "      <td>5.00</td>\n",
       "      <td>1.75</td>\n",
       "      <td>3.35</td>\n",
       "      <td>4.20</td>\n",
       "      <td>1.85</td>\n",
       "      <td>3.2</td>\n",
       "      <td>3.5</td>\n",
       "      <td>1.80</td>\n",
       "      <td>3.3</td>\n",
       "      <td>3.75</td>\n",
       "    </tr>\n",
       "    <tr>\n",
       "      <th>1</th>\n",
       "      <td>2</td>\n",
       "      <td>2008-08-16 00:00:00</td>\n",
       "      <td>2008/2009</td>\n",
       "      <td>492474</td>\n",
       "      <td>10000</td>\n",
       "      <td>9994</td>\n",
       "      <td>D</td>\n",
       "      <td>1.95</td>\n",
       "      <td>3.20</td>\n",
       "      <td>3.60</td>\n",
       "      <td>1.80</td>\n",
       "      <td>3.30</td>\n",
       "      <td>3.95</td>\n",
       "      <td>1.90</td>\n",
       "      <td>3.2</td>\n",
       "      <td>3.5</td>\n",
       "      <td>1.90</td>\n",
       "      <td>3.2</td>\n",
       "      <td>3.50</td>\n",
       "    </tr>\n",
       "    <tr>\n",
       "      <th>2</th>\n",
       "      <td>3</td>\n",
       "      <td>2008-08-16 00:00:00</td>\n",
       "      <td>2008/2009</td>\n",
       "      <td>492475</td>\n",
       "      <td>9984</td>\n",
       "      <td>8635</td>\n",
       "      <td>A</td>\n",
       "      <td>2.38</td>\n",
       "      <td>3.30</td>\n",
       "      <td>2.75</td>\n",
       "      <td>2.40</td>\n",
       "      <td>3.30</td>\n",
       "      <td>2.55</td>\n",
       "      <td>2.60</td>\n",
       "      <td>3.1</td>\n",
       "      <td>2.3</td>\n",
       "      <td>2.50</td>\n",
       "      <td>3.2</td>\n",
       "      <td>2.50</td>\n",
       "    </tr>\n",
       "    <tr>\n",
       "      <th>3</th>\n",
       "      <td>4</td>\n",
       "      <td>2008-08-17 00:00:00</td>\n",
       "      <td>2008/2009</td>\n",
       "      <td>492476</td>\n",
       "      <td>9991</td>\n",
       "      <td>9998</td>\n",
       "      <td>H</td>\n",
       "      <td>1.44</td>\n",
       "      <td>3.75</td>\n",
       "      <td>7.50</td>\n",
       "      <td>1.40</td>\n",
       "      <td>4.00</td>\n",
       "      <td>6.80</td>\n",
       "      <td>1.40</td>\n",
       "      <td>3.9</td>\n",
       "      <td>6.0</td>\n",
       "      <td>1.44</td>\n",
       "      <td>3.6</td>\n",
       "      <td>6.50</td>\n",
       "    </tr>\n",
       "    <tr>\n",
       "      <th>4</th>\n",
       "      <td>5</td>\n",
       "      <td>2008-08-16 00:00:00</td>\n",
       "      <td>2008/2009</td>\n",
       "      <td>492477</td>\n",
       "      <td>7947</td>\n",
       "      <td>9985</td>\n",
       "      <td>A</td>\n",
       "      <td>5.00</td>\n",
       "      <td>3.50</td>\n",
       "      <td>1.65</td>\n",
       "      <td>5.00</td>\n",
       "      <td>3.50</td>\n",
       "      <td>1.60</td>\n",
       "      <td>4.00</td>\n",
       "      <td>3.3</td>\n",
       "      <td>1.7</td>\n",
       "      <td>4.00</td>\n",
       "      <td>3.4</td>\n",
       "      <td>1.72</td>\n",
       "    </tr>\n",
       "  </tbody>\n",
       "</table>\n",
       "</div>"
      ],
      "text/plain": [
       "   id                 date season_name  match_api_id  home_team_api_id  \\\n",
       "0   1  2008-08-17 00:00:00   2008/2009        492473              9987   \n",
       "1   2  2008-08-16 00:00:00   2008/2009        492474             10000   \n",
       "2   3  2008-08-16 00:00:00   2008/2009        492475              9984   \n",
       "3   4  2008-08-17 00:00:00   2008/2009        492476              9991   \n",
       "4   5  2008-08-16 00:00:00   2008/2009        492477              7947   \n",
       "\n",
       "   away_team_api_id win_lose_draw  B365H  B365D  B365A   BWH   BWD   BWA  \\\n",
       "0              9993             D   1.73   3.40   5.00  1.75  3.35  4.20   \n",
       "1              9994             D   1.95   3.20   3.60  1.80  3.30  3.95   \n",
       "2              8635             A   2.38   3.30   2.75  2.40  3.30  2.55   \n",
       "3              9998             H   1.44   3.75   7.50  1.40  4.00  6.80   \n",
       "4              9985             A   5.00   3.50   1.65  5.00  3.50  1.60   \n",
       "\n",
       "    IWH  IWD  IWA   LBH  LBD   LBA  \n",
       "0  1.85  3.2  3.5  1.80  3.3  3.75  \n",
       "1  1.90  3.2  3.5  1.90  3.2  3.50  \n",
       "2  2.60  3.1  2.3  2.50  3.2  2.50  \n",
       "3  1.40  3.9  6.0  1.44  3.6  6.50  \n",
       "4  4.00  3.3  1.7  4.00  3.4  1.72  "
      ]
     },
     "execution_count": 99,
     "metadata": {},
     "output_type": "execute_result"
    }
   ],
   "source": [
    "df.head()"
   ]
  },
  {
   "cell_type": "code",
   "execution_count": 100,
   "metadata": {},
   "outputs": [
    {
     "name": "stdout",
     "output_type": "stream",
     "text": [
      "<class 'pandas.core.frame.DataFrame'>\n",
      "RangeIndex: 25979 entries, 0 to 25978\n",
      "Data columns (total 19 columns):\n",
      " #   Column            Non-Null Count  Dtype  \n",
      "---  ------            --------------  -----  \n",
      " 0   id                25979 non-null  int64  \n",
      " 1   date              25979 non-null  object \n",
      " 2   season_name       25979 non-null  object \n",
      " 3   match_api_id      25979 non-null  int64  \n",
      " 4   home_team_api_id  25979 non-null  int64  \n",
      " 5   away_team_api_id  25979 non-null  int64  \n",
      " 6   win_lose_draw     25979 non-null  object \n",
      " 7   B365H             22592 non-null  float64\n",
      " 8   B365D             22592 non-null  float64\n",
      " 9   B365A             22592 non-null  float64\n",
      " 10  BWH               22575 non-null  float64\n",
      " 11  BWD               22575 non-null  float64\n",
      " 12  BWA               22575 non-null  float64\n",
      " 13  IWH               22520 non-null  float64\n",
      " 14  IWD               22520 non-null  float64\n",
      " 15  IWA               22520 non-null  float64\n",
      " 16  LBH               22556 non-null  float64\n",
      " 17  LBD               22556 non-null  float64\n",
      " 18  LBA               22556 non-null  float64\n",
      "dtypes: float64(12), int64(4), object(3)\n",
      "memory usage: 3.8+ MB\n"
     ]
    }
   ],
   "source": [
    "df.info()"
   ]
  },
  {
   "cell_type": "code",
   "execution_count": 101,
   "metadata": {},
   "outputs": [
    {
     "data": {
      "text/plain": [
       "id                     0\n",
       "date                   0\n",
       "season_name            0\n",
       "match_api_id           0\n",
       "home_team_api_id       0\n",
       "away_team_api_id       0\n",
       "win_lose_draw          0\n",
       "B365H               3387\n",
       "B365D               3387\n",
       "B365A               3387\n",
       "BWH                 3404\n",
       "BWD                 3404\n",
       "BWA                 3404\n",
       "IWH                 3459\n",
       "IWD                 3459\n",
       "IWA                 3459\n",
       "LBH                 3423\n",
       "LBD                 3423\n",
       "LBA                 3423\n",
       "dtype: int64"
      ]
     },
     "execution_count": 101,
     "metadata": {},
     "output_type": "execute_result"
    }
   ],
   "source": [
    "df.isnull().sum()"
   ]
  },
  {
   "cell_type": "code",
   "execution_count": 102,
   "metadata": {},
   "outputs": [],
   "source": [
    "df.dropna(inplace=True)"
   ]
  },
  {
   "cell_type": "code",
   "execution_count": 103,
   "metadata": {},
   "outputs": [
    {
     "data": {
      "text/plain": [
       "id                  0\n",
       "date                0\n",
       "season_name         0\n",
       "match_api_id        0\n",
       "home_team_api_id    0\n",
       "away_team_api_id    0\n",
       "win_lose_draw       0\n",
       "B365H               0\n",
       "B365D               0\n",
       "B365A               0\n",
       "BWH                 0\n",
       "BWD                 0\n",
       "BWA                 0\n",
       "IWH                 0\n",
       "IWD                 0\n",
       "IWA                 0\n",
       "LBH                 0\n",
       "LBD                 0\n",
       "LBA                 0\n",
       "dtype: int64"
      ]
     },
     "execution_count": 103,
     "metadata": {},
     "output_type": "execute_result"
    }
   ],
   "source": [
    "df.isnull().sum()"
   ]
  },
  {
   "cell_type": "code",
   "execution_count": 104,
   "metadata": {},
   "outputs": [],
   "source": [
    "df.to_csv('../data/matches.csv', index=False)"
   ]
  },
  {
   "cell_type": "markdown",
   "metadata": {},
   "source": [
    "## Check team attributes table and remove null values"
   ]
  },
  {
   "cell_type": "code",
   "execution_count": 105,
   "metadata": {},
   "outputs": [
    {
     "data": {
      "text/html": [
       "<div>\n",
       "<style scoped>\n",
       "    .dataframe tbody tr th:only-of-type {\n",
       "        vertical-align: middle;\n",
       "    }\n",
       "\n",
       "    .dataframe tbody tr th {\n",
       "        vertical-align: top;\n",
       "    }\n",
       "\n",
       "    .dataframe thead th {\n",
       "        text-align: right;\n",
       "    }\n",
       "</style>\n",
       "<table border=\"1\" class=\"dataframe\">\n",
       "  <thead>\n",
       "    <tr style=\"text-align: right;\">\n",
       "      <th></th>\n",
       "      <th>id</th>\n",
       "      <th>team_api_id</th>\n",
       "      <th>date</th>\n",
       "      <th>buildUpPlaySpeed</th>\n",
       "      <th>buildUpPlayPassing</th>\n",
       "      <th>chanceCreationPassing</th>\n",
       "      <th>chanceCreationCrossing</th>\n",
       "      <th>chanceCreationShooting</th>\n",
       "      <th>defencePressure</th>\n",
       "      <th>defenceAggression</th>\n",
       "      <th>defenceTeamWidth</th>\n",
       "    </tr>\n",
       "  </thead>\n",
       "  <tbody>\n",
       "    <tr>\n",
       "      <th>0</th>\n",
       "      <td>1</td>\n",
       "      <td>9930</td>\n",
       "      <td>2010-02-22 00:00:00</td>\n",
       "      <td>60</td>\n",
       "      <td>50</td>\n",
       "      <td>60</td>\n",
       "      <td>65</td>\n",
       "      <td>55</td>\n",
       "      <td>50</td>\n",
       "      <td>55</td>\n",
       "      <td>45</td>\n",
       "    </tr>\n",
       "    <tr>\n",
       "      <th>1</th>\n",
       "      <td>2</td>\n",
       "      <td>9930</td>\n",
       "      <td>2014-09-19 00:00:00</td>\n",
       "      <td>52</td>\n",
       "      <td>56</td>\n",
       "      <td>54</td>\n",
       "      <td>63</td>\n",
       "      <td>64</td>\n",
       "      <td>47</td>\n",
       "      <td>44</td>\n",
       "      <td>54</td>\n",
       "    </tr>\n",
       "    <tr>\n",
       "      <th>2</th>\n",
       "      <td>3</td>\n",
       "      <td>9930</td>\n",
       "      <td>2015-09-10 00:00:00</td>\n",
       "      <td>47</td>\n",
       "      <td>54</td>\n",
       "      <td>54</td>\n",
       "      <td>63</td>\n",
       "      <td>64</td>\n",
       "      <td>47</td>\n",
       "      <td>44</td>\n",
       "      <td>54</td>\n",
       "    </tr>\n",
       "    <tr>\n",
       "      <th>3</th>\n",
       "      <td>4</td>\n",
       "      <td>8485</td>\n",
       "      <td>2010-02-22 00:00:00</td>\n",
       "      <td>70</td>\n",
       "      <td>70</td>\n",
       "      <td>70</td>\n",
       "      <td>70</td>\n",
       "      <td>70</td>\n",
       "      <td>60</td>\n",
       "      <td>70</td>\n",
       "      <td>70</td>\n",
       "    </tr>\n",
       "    <tr>\n",
       "      <th>4</th>\n",
       "      <td>5</td>\n",
       "      <td>8485</td>\n",
       "      <td>2011-02-22 00:00:00</td>\n",
       "      <td>47</td>\n",
       "      <td>52</td>\n",
       "      <td>53</td>\n",
       "      <td>48</td>\n",
       "      <td>52</td>\n",
       "      <td>47</td>\n",
       "      <td>47</td>\n",
       "      <td>52</td>\n",
       "    </tr>\n",
       "  </tbody>\n",
       "</table>\n",
       "</div>"
      ],
      "text/plain": [
       "   id  team_api_id                 date  buildUpPlaySpeed  buildUpPlayPassing  \\\n",
       "0   1         9930  2010-02-22 00:00:00                60                  50   \n",
       "1   2         9930  2014-09-19 00:00:00                52                  56   \n",
       "2   3         9930  2015-09-10 00:00:00                47                  54   \n",
       "3   4         8485  2010-02-22 00:00:00                70                  70   \n",
       "4   5         8485  2011-02-22 00:00:00                47                  52   \n",
       "\n",
       "   chanceCreationPassing  chanceCreationCrossing  chanceCreationShooting  \\\n",
       "0                     60                      65                      55   \n",
       "1                     54                      63                      64   \n",
       "2                     54                      63                      64   \n",
       "3                     70                      70                      70   \n",
       "4                     53                      48                      52   \n",
       "\n",
       "   defencePressure  defenceAggression  defenceTeamWidth  \n",
       "0               50                 55                45  \n",
       "1               47                 44                54  \n",
       "2               47                 44                54  \n",
       "3               60                 70                70  \n",
       "4               47                 47                52  "
      ]
     },
     "execution_count": 105,
     "metadata": {},
     "output_type": "execute_result"
    }
   ],
   "source": [
    "ta_df.head()"
   ]
  },
  {
   "cell_type": "code",
   "execution_count": 106,
   "metadata": {},
   "outputs": [
    {
     "data": {
      "text/html": [
       "<div>\n",
       "<style scoped>\n",
       "    .dataframe tbody tr th:only-of-type {\n",
       "        vertical-align: middle;\n",
       "    }\n",
       "\n",
       "    .dataframe tbody tr th {\n",
       "        vertical-align: top;\n",
       "    }\n",
       "\n",
       "    .dataframe thead th {\n",
       "        text-align: right;\n",
       "    }\n",
       "</style>\n",
       "<table border=\"1\" class=\"dataframe\">\n",
       "  <thead>\n",
       "    <tr style=\"text-align: right;\">\n",
       "      <th></th>\n",
       "      <th>id</th>\n",
       "      <th>team_api_id</th>\n",
       "      <th>buildUpPlaySpeed</th>\n",
       "      <th>buildUpPlayPassing</th>\n",
       "      <th>chanceCreationPassing</th>\n",
       "      <th>chanceCreationCrossing</th>\n",
       "      <th>chanceCreationShooting</th>\n",
       "      <th>defencePressure</th>\n",
       "      <th>defenceAggression</th>\n",
       "      <th>defenceTeamWidth</th>\n",
       "    </tr>\n",
       "  </thead>\n",
       "  <tbody>\n",
       "    <tr>\n",
       "      <th>count</th>\n",
       "      <td>1458.000000</td>\n",
       "      <td>1458.000000</td>\n",
       "      <td>1458.000000</td>\n",
       "      <td>1458.000000</td>\n",
       "      <td>1458.000000</td>\n",
       "      <td>1458.000000</td>\n",
       "      <td>1458.000000</td>\n",
       "      <td>1458.000000</td>\n",
       "      <td>1458.000000</td>\n",
       "      <td>1458.000000</td>\n",
       "    </tr>\n",
       "    <tr>\n",
       "      <th>mean</th>\n",
       "      <td>729.500000</td>\n",
       "      <td>9995.727023</td>\n",
       "      <td>52.462277</td>\n",
       "      <td>48.490398</td>\n",
       "      <td>52.165295</td>\n",
       "      <td>53.731824</td>\n",
       "      <td>53.969136</td>\n",
       "      <td>46.017147</td>\n",
       "      <td>49.251029</td>\n",
       "      <td>52.185871</td>\n",
       "    </tr>\n",
       "    <tr>\n",
       "      <th>std</th>\n",
       "      <td>421.032659</td>\n",
       "      <td>13264.869900</td>\n",
       "      <td>11.545869</td>\n",
       "      <td>10.896101</td>\n",
       "      <td>10.360793</td>\n",
       "      <td>11.086796</td>\n",
       "      <td>10.327566</td>\n",
       "      <td>10.227225</td>\n",
       "      <td>9.738028</td>\n",
       "      <td>9.574712</td>\n",
       "    </tr>\n",
       "    <tr>\n",
       "      <th>min</th>\n",
       "      <td>1.000000</td>\n",
       "      <td>1601.000000</td>\n",
       "      <td>20.000000</td>\n",
       "      <td>20.000000</td>\n",
       "      <td>21.000000</td>\n",
       "      <td>20.000000</td>\n",
       "      <td>22.000000</td>\n",
       "      <td>23.000000</td>\n",
       "      <td>24.000000</td>\n",
       "      <td>29.000000</td>\n",
       "    </tr>\n",
       "    <tr>\n",
       "      <th>25%</th>\n",
       "      <td>365.250000</td>\n",
       "      <td>8457.750000</td>\n",
       "      <td>45.000000</td>\n",
       "      <td>40.000000</td>\n",
       "      <td>46.000000</td>\n",
       "      <td>47.000000</td>\n",
       "      <td>48.000000</td>\n",
       "      <td>39.000000</td>\n",
       "      <td>44.000000</td>\n",
       "      <td>47.000000</td>\n",
       "    </tr>\n",
       "    <tr>\n",
       "      <th>50%</th>\n",
       "      <td>729.500000</td>\n",
       "      <td>8674.000000</td>\n",
       "      <td>52.000000</td>\n",
       "      <td>50.000000</td>\n",
       "      <td>52.000000</td>\n",
       "      <td>53.000000</td>\n",
       "      <td>53.000000</td>\n",
       "      <td>45.000000</td>\n",
       "      <td>48.000000</td>\n",
       "      <td>52.000000</td>\n",
       "    </tr>\n",
       "    <tr>\n",
       "      <th>75%</th>\n",
       "      <td>1093.750000</td>\n",
       "      <td>9904.000000</td>\n",
       "      <td>62.000000</td>\n",
       "      <td>55.000000</td>\n",
       "      <td>59.000000</td>\n",
       "      <td>62.000000</td>\n",
       "      <td>61.000000</td>\n",
       "      <td>51.000000</td>\n",
       "      <td>55.000000</td>\n",
       "      <td>58.000000</td>\n",
       "    </tr>\n",
       "    <tr>\n",
       "      <th>max</th>\n",
       "      <td>1458.000000</td>\n",
       "      <td>274581.000000</td>\n",
       "      <td>80.000000</td>\n",
       "      <td>80.000000</td>\n",
       "      <td>80.000000</td>\n",
       "      <td>80.000000</td>\n",
       "      <td>80.000000</td>\n",
       "      <td>72.000000</td>\n",
       "      <td>72.000000</td>\n",
       "      <td>73.000000</td>\n",
       "    </tr>\n",
       "  </tbody>\n",
       "</table>\n",
       "</div>"
      ],
      "text/plain": [
       "                id    team_api_id  buildUpPlaySpeed  buildUpPlayPassing  \\\n",
       "count  1458.000000    1458.000000       1458.000000         1458.000000   \n",
       "mean    729.500000    9995.727023         52.462277           48.490398   \n",
       "std     421.032659   13264.869900         11.545869           10.896101   \n",
       "min       1.000000    1601.000000         20.000000           20.000000   \n",
       "25%     365.250000    8457.750000         45.000000           40.000000   \n",
       "50%     729.500000    8674.000000         52.000000           50.000000   \n",
       "75%    1093.750000    9904.000000         62.000000           55.000000   \n",
       "max    1458.000000  274581.000000         80.000000           80.000000   \n",
       "\n",
       "       chanceCreationPassing  chanceCreationCrossing  chanceCreationShooting  \\\n",
       "count            1458.000000             1458.000000             1458.000000   \n",
       "mean               52.165295               53.731824               53.969136   \n",
       "std                10.360793               11.086796               10.327566   \n",
       "min                21.000000               20.000000               22.000000   \n",
       "25%                46.000000               47.000000               48.000000   \n",
       "50%                52.000000               53.000000               53.000000   \n",
       "75%                59.000000               62.000000               61.000000   \n",
       "max                80.000000               80.000000               80.000000   \n",
       "\n",
       "       defencePressure  defenceAggression  defenceTeamWidth  \n",
       "count      1458.000000        1458.000000       1458.000000  \n",
       "mean         46.017147          49.251029         52.185871  \n",
       "std          10.227225           9.738028          9.574712  \n",
       "min          23.000000          24.000000         29.000000  \n",
       "25%          39.000000          44.000000         47.000000  \n",
       "50%          45.000000          48.000000         52.000000  \n",
       "75%          51.000000          55.000000         58.000000  \n",
       "max          72.000000          72.000000         73.000000  "
      ]
     },
     "execution_count": 106,
     "metadata": {},
     "output_type": "execute_result"
    }
   ],
   "source": [
    "ta_df.describe()"
   ]
  },
  {
   "cell_type": "code",
   "execution_count": 107,
   "metadata": {},
   "outputs": [
    {
     "name": "stdout",
     "output_type": "stream",
     "text": [
      "<class 'pandas.core.frame.DataFrame'>\n",
      "RangeIndex: 1458 entries, 0 to 1457\n",
      "Data columns (total 11 columns):\n",
      " #   Column                  Non-Null Count  Dtype \n",
      "---  ------                  --------------  ----- \n",
      " 0   id                      1458 non-null   int64 \n",
      " 1   team_api_id             1458 non-null   int64 \n",
      " 2   date                    1458 non-null   object\n",
      " 3   buildUpPlaySpeed        1458 non-null   int64 \n",
      " 4   buildUpPlayPassing      1458 non-null   int64 \n",
      " 5   chanceCreationPassing   1458 non-null   int64 \n",
      " 6   chanceCreationCrossing  1458 non-null   int64 \n",
      " 7   chanceCreationShooting  1458 non-null   int64 \n",
      " 8   defencePressure         1458 non-null   int64 \n",
      " 9   defenceAggression       1458 non-null   int64 \n",
      " 10  defenceTeamWidth        1458 non-null   int64 \n",
      "dtypes: int64(10), object(1)\n",
      "memory usage: 125.4+ KB\n"
     ]
    }
   ],
   "source": [
    "ta_df.info()"
   ]
  },
  {
   "cell_type": "code",
   "execution_count": 108,
   "metadata": {},
   "outputs": [
    {
     "data": {
      "text/plain": [
       "id                        0\n",
       "team_api_id               0\n",
       "date                      0\n",
       "buildUpPlaySpeed          0\n",
       "buildUpPlayPassing        0\n",
       "chanceCreationPassing     0\n",
       "chanceCreationCrossing    0\n",
       "chanceCreationShooting    0\n",
       "defencePressure           0\n",
       "defenceAggression         0\n",
       "defenceTeamWidth          0\n",
       "dtype: int64"
      ]
     },
     "execution_count": 108,
     "metadata": {},
     "output_type": "execute_result"
    }
   ],
   "source": [
    "ta_df.isnull().sum()"
   ]
  },
  {
   "cell_type": "markdown",
   "metadata": {},
   "source": [
    "## Find season end and add season column to dataframes"
   ]
  },
  {
   "cell_type": "code",
   "execution_count": 109,
   "metadata": {},
   "outputs": [
    {
     "data": {
      "text/plain": [
       "<AxesSubplot:xlabel='date,date'>"
      ]
     },
     "execution_count": 109,
     "metadata": {},
     "output_type": "execute_result"
    },
    {
     "data": {
      "image/png": "[encoded data removed]",
      "text/plain": [
       "<Figure size 1296x432 with 1 Axes>"
      ]
     },
     "metadata": {
      "needs_background": "light"
     },
     "output_type": "display_data"
    }
   ],
   "source": [
    "df[\"date\"] = df[\"date\"].astype(\"datetime64\")\n",
    "df.date.groupby([df[\"date\"].dt.year, df[\"date\"].dt.month]).count().plot(kind=\"bar\", legend=False, figsize=(18, 6))"
   ]
  },
  {
   "cell_type": "markdown",
   "metadata": {},
   "source": [
    "### Group by per season, if month is after June we move it to the next year\n"
   ]
  },
  {
   "cell_type": "code",
   "execution_count": 110,
   "metadata": {},
   "outputs": [
    {
     "data": {
      "text/plain": [
       "<AxesSubplot:xlabel='season_name'>"
      ]
     },
     "execution_count": 110,
     "metadata": {},
     "output_type": "execute_result"
    },
    {
     "data": {
      "image/png": "[encoded data removed]",
      "text/plain": [
       "<Figure size 1296x432 with 1 Axes>"
      ]
     },
     "metadata": {
      "needs_background": "light"
     },
     "output_type": "display_data"
    }
   ],
   "source": [
    "df.groupby('season_name').count().plot(kind=\"bar\", legend=False, figsize=(18, 6))"
   ]
  },
  {
   "cell_type": "code",
   "execution_count": 111,
   "metadata": {},
   "outputs": [
    {
     "data": {
      "text/plain": [
       "<AxesSubplot:xlabel='date'>"
      ]
     },
     "execution_count": 111,
     "metadata": {},
     "output_type": "execute_result"
    },
    {
     "data": {
      "image/png": "[encoded data removed]",
      "text/plain": [
       "<Figure size 1296x432 with 1 Axes>"
      ]
     },
     "metadata": {
      "needs_background": "light"
     },
     "output_type": "display_data"
    }
   ],
   "source": [
    "season_years = df[\"date\"].dt.year + (df[\"date\"].dt.month>6).astype(int)\n",
    "df.date.groupby(season_years).count().plot(kind=\"bar\", legend=False, figsize=(18, 6))"
   ]
  },
  {
   "cell_type": "code",
   "execution_count": 112,
   "metadata": {},
   "outputs": [],
   "source": [
    "df[\"season\"] = season_years\n",
    "ta_df[\"date\"] = ta_df[\"date\"].astype(\"datetime64\")\n",
    "ta_df[\"season\"] = ta_df.date.dt.year + (ta_df[\"date\"].dt.month > 6).astype(int)"
   ]
  },
  {
   "cell_type": "code",
   "execution_count": 113,
   "metadata": {},
   "outputs": [
    {
     "data": {
      "text/plain": [
       "<AxesSubplot:xlabel='season'>"
      ]
     },
     "execution_count": 113,
     "metadata": {},
     "output_type": "execute_result"
    },
    {
     "data": {
      "image/png": "[encoded data removed]",
      "text/plain": [
       "<Figure size 1296x432 with 1 Axes>"
      ]
     },
     "metadata": {
      "needs_background": "light"
     },
     "output_type": "display_data"
    }
   ],
   "source": [
    "ta_df.season.groupby(ta_df.season).count().plot(kind=\"bar\", legend=False, figsize=(18, 6))"
   ]
  },
  {
   "cell_type": "markdown",
   "metadata": {},
   "source": [
    "## Join tables on season and team_id, both for home and away teams"
   ]
  },
  {
   "cell_type": "code",
   "execution_count": 114,
   "metadata": {},
   "outputs": [
    {
     "data": {
      "text/plain": [
       "Index(['id_match', 'date_match', 'season_name', 'match_api_id',\n",
       "       'home_team_api_id', 'away_team_api_id', 'win_lose_draw', 'B365H',\n",
       "       'B365D', 'B365A', 'BWH', 'BWD', 'BWA', 'IWH', 'IWD', 'IWA', 'LBH',\n",
       "       'LBD', 'LBA', 'season', 'id_team', 'team_api_id', 'date_team',\n",
       "       'buildUpPlaySpeed', 'buildUpPlayPassing', 'chanceCreationPassing',\n",
       "       'chanceCreationCrossing', 'chanceCreationShooting', 'defencePressure',\n",
       "       'defenceAggression', 'defenceTeamWidth'],\n",
       "      dtype='object')"
      ]
     },
     "execution_count": 114,
     "metadata": {},
     "output_type": "execute_result"
    }
   ],
   "source": [
    "df1 = pd.merge(df, ta_df, left_on=[\"season\", \"home_team_api_id\"], right_on=[\"season\", \"team_api_id\"], how=\"inner\", suffixes=(\"_match\", \"_team\"))\n",
    "df1.columns"
   ]
  },
  {
   "cell_type": "code",
   "execution_count": 117,
   "metadata": {},
   "outputs": [
    {
     "data": {
      "text/plain": [
       "Index(['id_match', 'date_match', 'season_name', 'home_team_api_id',\n",
       "       'away_team_api_id', 'win_lose_draw', 'B365H', 'B365D', 'B365A', 'BWH',\n",
       "       'BWD', 'BWA', 'IWH', 'IWD', 'IWA', 'LBH', 'LBD', 'LBA',\n",
       "       'buildUpPlaySpeed_H', 'buildUpPlayPassing_H', 'chanceCreationPassing_H',\n",
       "       'chanceCreationCrossing_H', 'chanceCreationShooting_H',\n",
       "       'defencePressure_H', 'defenceAggression_H', 'defenceTeamWidth_H', 'id',\n",
       "       'date', 'buildUpPlaySpeed_A', 'buildUpPlayPassing_A',\n",
       "       'chanceCreationPassing_A', 'chanceCreationCrossing_A',\n",
       "       'chanceCreationShooting_A', 'defencePressure_A', 'defenceAggression_A',\n",
       "       'defenceTeamWidth_A'],\n",
       "      dtype='object')"
      ]
     },
     "execution_count": 117,
     "metadata": {},
     "output_type": "execute_result"
    }
   ],
   "source": [
    "df2 = pd.merge(df1, ta_df, left_on=[\"season\", \"away_team_api_id\"], right_on=[\"season\", \"team_api_id\"], how=\"inner\", suffixes=(\"_H\", \"_A\"))\n",
    "df2.drop(\n",
    "    [\"match_api_id\", \"id_team\", \"team_api_id_H\", \"date_team\", 'team_api_id_A', 'season'],\n",
    "     axis=1, inplace=True)\n",
    "df2.columns"
   ]
  },
  {
   "cell_type": "code",
   "execution_count": 116,
   "metadata": {},
   "outputs": [],
   "source": [
    "df2.to_csv('../data/matches_with_team_attributes.csv', index=False)"
   ]
  },
  {
   "cell_type": "code",
   "execution_count": null,
   "metadata": {},
   "outputs": [],
   "source": []
  }
 ],
 "metadata": {
  "interpreter": {
   "hash": "3067ead486e059ec00ffe7555bdb889e6e264a24dc711bf108106cc7baee8d5d"
  },
  "kernelspec": {
   "display_name": "Python 3.8.8 64-bit ('base': conda)",
   "language": "python",
   "name": "python3"
  },
  "language_info": {
   "codemirror_mode": {
    "name": "ipython",
    "version": 3
   },
   "file_extension": ".py",
   "mimetype": "text/x-python",
   "name": "python",
   "nbconvert_exporter": "python",
   "pygments_lexer": "ipython3",
   "version": "3.8.8"
  },
  "orig_nbformat": 4
 },
 "nbformat": 4,
 "nbformat_minor": 2
}
