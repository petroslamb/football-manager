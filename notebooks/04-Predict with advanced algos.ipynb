{
 "cells": [
  {
   "cell_type": "markdown",
   "metadata": {},
   "source": [
    "#  Advanced algo prediction from bettings odds of all 4 companies and team attributes"
   ]
  },
  {
   "cell_type": "code",
   "execution_count": 1,
   "metadata": {},
   "outputs": [],
   "source": [
    "import pandas as pd\n",
    "from sklearn.model_selection import train_test_split\n",
    "from sklearn.preprocessing import StandardScaler\n",
    "from numpy import mean, std\n",
    "from sklearn.model_selection import KFold, cross_val_score"
   ]
  },
  {
   "cell_type": "code",
   "execution_count": 2,
   "metadata": {},
   "outputs": [
    {
     "name": "stdout",
     "output_type": "stream",
     "text": [
      "<class 'pandas.core.frame.DataFrame'>\n",
      "RangeIndex: 15981 entries, 0 to 15980\n",
      "Data columns (total 36 columns):\n",
      " #   Column                    Non-Null Count  Dtype  \n",
      "---  ------                    --------------  -----  \n",
      " 0   id_match                  15981 non-null  int64  \n",
      " 1   date_match                15981 non-null  object \n",
      " 2   season_name               15981 non-null  object \n",
      " 3   home_team_api_id          15981 non-null  int64  \n",
      " 4   away_team_api_id          15981 non-null  int64  \n",
      " 5   win_lose_draw             15981 non-null  object \n",
      " 6   B365H                     15981 non-null  float64\n",
      " 7   B365D                     15981 non-null  float64\n",
      " 8   B365A                     15981 non-null  float64\n",
      " 9   BWH                       15981 non-null  float64\n",
      " 10  BWD                       15981 non-null  float64\n",
      " 11  BWA                       15981 non-null  float64\n",
      " 12  IWH                       15981 non-null  float64\n",
      " 13  IWD                       15981 non-null  float64\n",
      " 14  IWA                       15981 non-null  float64\n",
      " 15  LBH                       15981 non-null  float64\n",
      " 16  LBD                       15981 non-null  float64\n",
      " 17  LBA                       15981 non-null  float64\n",
      " 18  buildUpPlaySpeed_H        15981 non-null  int64  \n",
      " 19  buildUpPlayPassing_H      15981 non-null  int64  \n",
      " 20  chanceCreationPassing_H   15981 non-null  int64  \n",
      " 21  chanceCreationCrossing_H  15981 non-null  int64  \n",
      " 22  chanceCreationShooting_H  15981 non-null  int64  \n",
      " 23  defencePressure_H         15981 non-null  int64  \n",
      " 24  defenceAggression_H       15981 non-null  int64  \n",
      " 25  defenceTeamWidth_H        15981 non-null  int64  \n",
      " 26  id                        15981 non-null  int64  \n",
      " 27  date                      15981 non-null  object \n",
      " 28  buildUpPlaySpeed_A        15981 non-null  int64  \n",
      " 29  buildUpPlayPassing_A      15981 non-null  int64  \n",
      " 30  chanceCreationPassing_A   15981 non-null  int64  \n",
      " 31  chanceCreationCrossing_A  15981 non-null  int64  \n",
      " 32  chanceCreationShooting_A  15981 non-null  int64  \n",
      " 33  defencePressure_A         15981 non-null  int64  \n",
      " 34  defenceAggression_A       15981 non-null  int64  \n",
      " 35  defenceTeamWidth_A        15981 non-null  int64  \n",
      "dtypes: float64(12), int64(20), object(4)\n",
      "memory usage: 4.4+ MB\n"
     ]
    }
   ],
   "source": [
    "df = pd.read_csv('../data/matches_with_team_attributes.csv')\n",
    "df.info()"
   ]
  },
  {
   "cell_type": "markdown",
   "metadata": {},
   "source": [
    "## Prepare data and try different shallow models"
   ]
  },
  {
   "cell_type": "code",
   "execution_count": 3,
   "metadata": {},
   "outputs": [
    {
     "name": "stdout",
     "output_type": "stream",
     "text": [
      "['chanceCreationPassing_H', 'buildUpPlayPassing_H', 'BWD', 'IWD', 'BWH', 'B365H', 'chanceCreationCrossing_A', 'defencePressure_A', 'buildUpPlaySpeed_H', 'LBD', 'defenceTeamWidth_H', 'buildUpPlaySpeed_A', 'B365D', 'defenceAggression_A', 'B365A', 'LBA', 'buildUpPlayPassing_A', 'defencePressure_H', 'chanceCreationShooting_H', 'chanceCreationShooting_A', 'chanceCreationCrossing_H', 'IWA', 'BWA', 'chanceCreationPassing_A', 'defenceTeamWidth_A', 'LBH', 'defenceAggression_H', 'IWH']\n"
     ]
    }
   ],
   "source": [
    "feature_cols = list(\n",
    "    set(df.columns.tolist()) - \n",
    "    {'id', 'date', 'match_api_id', 'home_team_api_id', 'away_team_api_id', 'win_lose_draw', 'season_name', 'date_match', 'id_match'}\n",
    "    )\n",
    "target_label = 'win_lose_draw'\n",
    "\n",
    "X = df[feature_cols]\n",
    "y = df[target_label]\n",
    "\n",
    "print(feature_cols)"
   ]
  },
  {
   "cell_type": "code",
   "execution_count": 4,
   "metadata": {},
   "outputs": [
    {
     "data": {
      "text/html": [
       "<div>\n",
       "<style scoped>\n",
       "    .dataframe tbody tr th:only-of-type {\n",
       "        vertical-align: middle;\n",
       "    }\n",
       "\n",
       "    .dataframe tbody tr th {\n",
       "        vertical-align: top;\n",
       "    }\n",
       "\n",
       "    .dataframe thead th {\n",
       "        text-align: right;\n",
       "    }\n",
       "</style>\n",
       "<table border=\"1\" class=\"dataframe\">\n",
       "  <thead>\n",
       "    <tr style=\"text-align: right;\">\n",
       "      <th></th>\n",
       "      <th>chanceCreationPassing_H</th>\n",
       "      <th>buildUpPlayPassing_H</th>\n",
       "      <th>BWD</th>\n",
       "      <th>IWD</th>\n",
       "      <th>BWH</th>\n",
       "      <th>B365H</th>\n",
       "      <th>chanceCreationCrossing_A</th>\n",
       "      <th>defencePressure_A</th>\n",
       "      <th>buildUpPlaySpeed_H</th>\n",
       "      <th>LBD</th>\n",
       "      <th>...</th>\n",
       "      <th>chanceCreationShooting_H</th>\n",
       "      <th>chanceCreationShooting_A</th>\n",
       "      <th>chanceCreationCrossing_H</th>\n",
       "      <th>IWA</th>\n",
       "      <th>BWA</th>\n",
       "      <th>chanceCreationPassing_A</th>\n",
       "      <th>defenceTeamWidth_A</th>\n",
       "      <th>LBH</th>\n",
       "      <th>defenceAggression_H</th>\n",
       "      <th>IWH</th>\n",
       "    </tr>\n",
       "  </thead>\n",
       "  <tbody>\n",
       "    <tr>\n",
       "      <th>count</th>\n",
       "      <td>15981.000000</td>\n",
       "      <td>15981.000000</td>\n",
       "      <td>15981.000000</td>\n",
       "      <td>15981.000000</td>\n",
       "      <td>15981.000000</td>\n",
       "      <td>15981.000000</td>\n",
       "      <td>15981.000000</td>\n",
       "      <td>15981.000000</td>\n",
       "      <td>15981.000000</td>\n",
       "      <td>15981.000000</td>\n",
       "      <td>...</td>\n",
       "      <td>15981.000000</td>\n",
       "      <td>15981.000000</td>\n",
       "      <td>15981.000000</td>\n",
       "      <td>15981.000000</td>\n",
       "      <td>15981.000000</td>\n",
       "      <td>15981.000000</td>\n",
       "      <td>15981.000000</td>\n",
       "      <td>15981.000000</td>\n",
       "      <td>15981.000000</td>\n",
       "      <td>15981.000000</td>\n",
       "    </tr>\n",
       "    <tr>\n",
       "      <th>mean</th>\n",
       "      <td>52.540767</td>\n",
       "      <td>47.857018</td>\n",
       "      <td>3.788491</td>\n",
       "      <td>3.644077</td>\n",
       "      <td>2.589340</td>\n",
       "      <td>2.661016</td>\n",
       "      <td>54.303986</td>\n",
       "      <td>46.339466</td>\n",
       "      <td>52.906139</td>\n",
       "      <td>3.756980</td>\n",
       "      <td>...</td>\n",
       "      <td>54.111883</td>\n",
       "      <td>54.102246</td>\n",
       "      <td>54.308867</td>\n",
       "      <td>4.176535</td>\n",
       "      <td>4.447862</td>\n",
       "      <td>52.531944</td>\n",
       "      <td>52.182154</td>\n",
       "      <td>2.571997</td>\n",
       "      <td>49.787373</td>\n",
       "      <td>2.494318</td>\n",
       "    </tr>\n",
       "    <tr>\n",
       "      <th>std</th>\n",
       "      <td>10.695661</td>\n",
       "      <td>11.373729</td>\n",
       "      <td>1.085841</td>\n",
       "      <td>0.834628</td>\n",
       "      <td>1.696014</td>\n",
       "      <td>1.869645</td>\n",
       "      <td>11.047534</td>\n",
       "      <td>10.466065</td>\n",
       "      <td>11.985586</td>\n",
       "      <td>1.065367</td>\n",
       "      <td>...</td>\n",
       "      <td>10.593927</td>\n",
       "      <td>10.597839</td>\n",
       "      <td>11.043677</td>\n",
       "      <td>2.945059</td>\n",
       "      <td>3.433770</td>\n",
       "      <td>10.702289</td>\n",
       "      <td>9.865081</td>\n",
       "      <td>1.716123</td>\n",
       "      <td>10.005679</td>\n",
       "      <td>1.500662</td>\n",
       "    </tr>\n",
       "    <tr>\n",
       "      <th>min</th>\n",
       "      <td>21.000000</td>\n",
       "      <td>20.000000</td>\n",
       "      <td>1.650000</td>\n",
       "      <td>1.500000</td>\n",
       "      <td>1.030000</td>\n",
       "      <td>1.040000</td>\n",
       "      <td>20.000000</td>\n",
       "      <td>23.000000</td>\n",
       "      <td>20.000000</td>\n",
       "      <td>1.440000</td>\n",
       "      <td>...</td>\n",
       "      <td>22.000000</td>\n",
       "      <td>22.000000</td>\n",
       "      <td>20.000000</td>\n",
       "      <td>1.100000</td>\n",
       "      <td>1.100000</td>\n",
       "      <td>21.000000</td>\n",
       "      <td>30.000000</td>\n",
       "      <td>1.040000</td>\n",
       "      <td>24.000000</td>\n",
       "      <td>1.050000</td>\n",
       "    </tr>\n",
       "    <tr>\n",
       "      <th>25%</th>\n",
       "      <td>47.000000</td>\n",
       "      <td>39.000000</td>\n",
       "      <td>3.250000</td>\n",
       "      <td>3.200000</td>\n",
       "      <td>1.650000</td>\n",
       "      <td>1.670000</td>\n",
       "      <td>48.000000</td>\n",
       "      <td>39.000000</td>\n",
       "      <td>45.000000</td>\n",
       "      <td>3.250000</td>\n",
       "      <td>...</td>\n",
       "      <td>48.000000</td>\n",
       "      <td>48.000000</td>\n",
       "      <td>48.000000</td>\n",
       "      <td>2.500000</td>\n",
       "      <td>2.500000</td>\n",
       "      <td>47.000000</td>\n",
       "      <td>47.000000</td>\n",
       "      <td>1.660000</td>\n",
       "      <td>44.000000</td>\n",
       "      <td>1.650000</td>\n",
       "    </tr>\n",
       "    <tr>\n",
       "      <th>50%</th>\n",
       "      <td>52.000000</td>\n",
       "      <td>49.000000</td>\n",
       "      <td>3.400000</td>\n",
       "      <td>3.300000</td>\n",
       "      <td>2.100000</td>\n",
       "      <td>2.100000</td>\n",
       "      <td>54.000000</td>\n",
       "      <td>46.000000</td>\n",
       "      <td>53.000000</td>\n",
       "      <td>3.400000</td>\n",
       "      <td>...</td>\n",
       "      <td>54.000000</td>\n",
       "      <td>54.000000</td>\n",
       "      <td>54.000000</td>\n",
       "      <td>3.300000</td>\n",
       "      <td>3.400000</td>\n",
       "      <td>52.000000</td>\n",
       "      <td>52.000000</td>\n",
       "      <td>2.100000</td>\n",
       "      <td>49.000000</td>\n",
       "      <td>2.100000</td>\n",
       "    </tr>\n",
       "    <tr>\n",
       "      <th>75%</th>\n",
       "      <td>60.000000</td>\n",
       "      <td>55.000000</td>\n",
       "      <td>3.900000</td>\n",
       "      <td>3.700000</td>\n",
       "      <td>2.750000</td>\n",
       "      <td>2.800000</td>\n",
       "      <td>63.000000</td>\n",
       "      <td>53.000000</td>\n",
       "      <td>63.000000</td>\n",
       "      <td>3.750000</td>\n",
       "      <td>...</td>\n",
       "      <td>62.000000</td>\n",
       "      <td>62.000000</td>\n",
       "      <td>63.000000</td>\n",
       "      <td>4.650000</td>\n",
       "      <td>5.000000</td>\n",
       "      <td>60.000000</td>\n",
       "      <td>59.000000</td>\n",
       "      <td>2.750000</td>\n",
       "      <td>57.000000</td>\n",
       "      <td>2.600000</td>\n",
       "    </tr>\n",
       "    <tr>\n",
       "      <th>max</th>\n",
       "      <td>80.000000</td>\n",
       "      <td>80.000000</td>\n",
       "      <td>19.500000</td>\n",
       "      <td>11.000000</td>\n",
       "      <td>34.000000</td>\n",
       "      <td>26.000000</td>\n",
       "      <td>80.000000</td>\n",
       "      <td>72.000000</td>\n",
       "      <td>80.000000</td>\n",
       "      <td>19.000000</td>\n",
       "      <td>...</td>\n",
       "      <td>80.000000</td>\n",
       "      <td>80.000000</td>\n",
       "      <td>80.000000</td>\n",
       "      <td>25.000000</td>\n",
       "      <td>51.000000</td>\n",
       "      <td>80.000000</td>\n",
       "      <td>73.000000</td>\n",
       "      <td>26.000000</td>\n",
       "      <td>72.000000</td>\n",
       "      <td>20.000000</td>\n",
       "    </tr>\n",
       "  </tbody>\n",
       "</table>\n",
       "<p>8 rows × 28 columns</p>\n",
       "</div>"
      ],
      "text/plain": [
       "       chanceCreationPassing_H  buildUpPlayPassing_H           BWD  \\\n",
       "count             15981.000000          15981.000000  15981.000000   \n",
       "mean                 52.540767             47.857018      3.788491   \n",
       "std                  10.695661             11.373729      1.085841   \n",
       "min                  21.000000             20.000000      1.650000   \n",
       "25%                  47.000000             39.000000      3.250000   \n",
       "50%                  52.000000             49.000000      3.400000   \n",
       "75%                  60.000000             55.000000      3.900000   \n",
       "max                  80.000000             80.000000     19.500000   \n",
       "\n",
       "                IWD           BWH         B365H  chanceCreationCrossing_A  \\\n",
       "count  15981.000000  15981.000000  15981.000000              15981.000000   \n",
       "mean       3.644077      2.589340      2.661016                 54.303986   \n",
       "std        0.834628      1.696014      1.869645                 11.047534   \n",
       "min        1.500000      1.030000      1.040000                 20.000000   \n",
       "25%        3.200000      1.650000      1.670000                 48.000000   \n",
       "50%        3.300000      2.100000      2.100000                 54.000000   \n",
       "75%        3.700000      2.750000      2.800000                 63.000000   \n",
       "max       11.000000     34.000000     26.000000                 80.000000   \n",
       "\n",
       "       defencePressure_A  buildUpPlaySpeed_H           LBD  ...  \\\n",
       "count       15981.000000        15981.000000  15981.000000  ...   \n",
       "mean           46.339466           52.906139      3.756980  ...   \n",
       "std            10.466065           11.985586      1.065367  ...   \n",
       "min            23.000000           20.000000      1.440000  ...   \n",
       "25%            39.000000           45.000000      3.250000  ...   \n",
       "50%            46.000000           53.000000      3.400000  ...   \n",
       "75%            53.000000           63.000000      3.750000  ...   \n",
       "max            72.000000           80.000000     19.000000  ...   \n",
       "\n",
       "       chanceCreationShooting_H  chanceCreationShooting_A  \\\n",
       "count              15981.000000              15981.000000   \n",
       "mean                  54.111883                 54.102246   \n",
       "std                   10.593927                 10.597839   \n",
       "min                   22.000000                 22.000000   \n",
       "25%                   48.000000                 48.000000   \n",
       "50%                   54.000000                 54.000000   \n",
       "75%                   62.000000                 62.000000   \n",
       "max                   80.000000                 80.000000   \n",
       "\n",
       "       chanceCreationCrossing_H           IWA           BWA  \\\n",
       "count              15981.000000  15981.000000  15981.000000   \n",
       "mean                  54.308867      4.176535      4.447862   \n",
       "std                   11.043677      2.945059      3.433770   \n",
       "min                   20.000000      1.100000      1.100000   \n",
       "25%                   48.000000      2.500000      2.500000   \n",
       "50%                   54.000000      3.300000      3.400000   \n",
       "75%                   63.000000      4.650000      5.000000   \n",
       "max                   80.000000     25.000000     51.000000   \n",
       "\n",
       "       chanceCreationPassing_A  defenceTeamWidth_A           LBH  \\\n",
       "count             15981.000000        15981.000000  15981.000000   \n",
       "mean                 52.531944           52.182154      2.571997   \n",
       "std                  10.702289            9.865081      1.716123   \n",
       "min                  21.000000           30.000000      1.040000   \n",
       "25%                  47.000000           47.000000      1.660000   \n",
       "50%                  52.000000           52.000000      2.100000   \n",
       "75%                  60.000000           59.000000      2.750000   \n",
       "max                  80.000000           73.000000     26.000000   \n",
       "\n",
       "       defenceAggression_H           IWH  \n",
       "count         15981.000000  15981.000000  \n",
       "mean             49.787373      2.494318  \n",
       "std              10.005679      1.500662  \n",
       "min              24.000000      1.050000  \n",
       "25%              44.000000      1.650000  \n",
       "50%              49.000000      2.100000  \n",
       "75%              57.000000      2.600000  \n",
       "max              72.000000     20.000000  \n",
       "\n",
       "[8 rows x 28 columns]"
      ]
     },
     "execution_count": 4,
     "metadata": {},
     "output_type": "execute_result"
    }
   ],
   "source": [
    "X.describe()"
   ]
  },
  {
   "cell_type": "code",
   "execution_count": 5,
   "metadata": {},
   "outputs": [
    {
     "data": {
      "text/plain": [
       "<AxesSubplot:>"
      ]
     },
     "execution_count": 5,
     "metadata": {},
     "output_type": "execute_result"
    },
    {
     "data": {
      "image/png": "[encoded data removed]",
      "text/plain": [
       "<Figure size 432x288 with 1 Axes>"
      ]
     },
     "metadata": {
      "needs_background": "light"
     },
     "output_type": "display_data"
    }
   ],
   "source": [
    "y.value_counts().plot(kind='bar')"
   ]
  },
  {
   "cell_type": "code",
   "execution_count": 6,
   "metadata": {},
   "outputs": [],
   "source": [
    "X_train, X_test, y_train, y_test = train_test_split(X, y, test_size=0.2, random_state=42)\n",
    "scaler = StandardScaler()\n",
    "X_train = scaler.fit_transform(X_train)\n",
    "X_test = scaler.transform(X_test)\n"
   ]
  },
  {
   "cell_type": "markdown",
   "metadata": {},
   "source": [
    "## LightGBM"
   ]
  },
  {
   "cell_type": "code",
   "execution_count": 8,
   "metadata": {},
   "outputs": [],
   "source": [
    "import lightgbm as lgb"
   ]
  },
  {
   "cell_type": "code",
   "execution_count": 9,
   "metadata": {},
   "outputs": [
    {
     "name": "stdout",
     "output_type": "stream",
     "text": [
      "Accuracy of classifier on training set: 0.70\n",
      "Accuracy of  classifier on test set: 0.53\n"
     ]
    }
   ],
   "source": [
    "clf = lgb.LGBMClassifier(random_state=42).fit(X_train, y_train)\n",
    "\n",
    "print('Accuracy of classifier on training set: {:.2f}'\n",
    "     .format(clf.score(X_train, y_train)))\n",
    "print('Accuracy of  classifier on test set: {:.2f}'\n",
    "     .format(clf.score(X_test, y_test)))"
   ]
  },
  {
   "cell_type": "code",
   "execution_count": 10,
   "metadata": {},
   "outputs": [
    {
     "name": "stdout",
     "output_type": "stream",
     "text": [
      "Accuracy: 0.520 (0.012)\n"
     ]
    }
   ],
   "source": [
    "scores = cross_val_score(clf, X, y, cv=KFold(n_splits=10, random_state=42, shuffle=True))\n",
    "print('Accuracy: %.3f (%.3f)' % (mean(scores), std(scores)))"
   ]
  },
  {
   "cell_type": "markdown",
   "metadata": {},
   "source": [
    "## XGBoost"
   ]
  },
  {
   "cell_type": "code",
   "execution_count": 11,
   "metadata": {},
   "outputs": [
    {
     "name": "stdout",
     "output_type": "stream",
     "text": [
      "[21:11:22] WARNING: /Users/runner/work/xgboost/xgboost/src/learner.cc:1115: Starting in XGBoost 1.3.0, the default evaluation metric used with the objective 'multi:softprob' was changed from 'merror' to 'mlogloss'. Explicitly set eval_metric if you'd like to restore the old behavior.\n",
      "Accuracy of classifier on training set: 0.86\n",
      "Accuracy of  classifier on test set: 0.50\n"
     ]
    }
   ],
   "source": [
    "from xgboost import XGBClassifier\n",
    "\n",
    "clf = XGBClassifier(random_state=42).fit(X_train, y_train)\n",
    "\n",
    "print('Accuracy of classifier on training set: {:.2f}'\n",
    "     .format(clf.score(X_train, y_train)))\n",
    "print('Accuracy of  classifier on test set: {:.2f}'\n",
    "     .format(clf.score(X_test, y_test)))"
   ]
  },
  {
   "cell_type": "code",
   "execution_count": 12,
   "metadata": {},
   "outputs": [
    {
     "name": "stdout",
     "output_type": "stream",
     "text": [
      "[21:11:24] WARNING: /Users/runner/work/xgboost/xgboost/src/learner.cc:1115: Starting in XGBoost 1.3.0, the default evaluation metric used with the objective 'multi:softprob' was changed from 'merror' to 'mlogloss'. Explicitly set eval_metric if you'd like to restore the old behavior.\n",
      "[21:11:26] WARNING: /Users/runner/work/xgboost/xgboost/src/learner.cc:1115: Starting in XGBoost 1.3.0, the default evaluation metric used with the objective 'multi:softprob' was changed from 'merror' to 'mlogloss'. Explicitly set eval_metric if you'd like to restore the old behavior.\n",
      "[21:11:29] WARNING: /Users/runner/work/xgboost/xgboost/src/learner.cc:1115: Starting in XGBoost 1.3.0, the default evaluation metric used with the objective 'multi:softprob' was changed from 'merror' to 'mlogloss'. Explicitly set eval_metric if you'd like to restore the old behavior.\n",
      "[21:11:31] WARNING: /Users/runner/work/xgboost/xgboost/src/learner.cc:1115: Starting in XGBoost 1.3.0, the default evaluation metric used with the objective 'multi:softprob' was changed from 'merror' to 'mlogloss'. Explicitly set eval_metric if you'd like to restore the old behavior.\n",
      "[21:11:33] WARNING: /Users/runner/work/xgboost/xgboost/src/learner.cc:1115: Starting in XGBoost 1.3.0, the default evaluation metric used with the objective 'multi:softprob' was changed from 'merror' to 'mlogloss'. Explicitly set eval_metric if you'd like to restore the old behavior.\n",
      "[21:11:35] WARNING: /Users/runner/work/xgboost/xgboost/src/learner.cc:1115: Starting in XGBoost 1.3.0, the default evaluation metric used with the objective 'multi:softprob' was changed from 'merror' to 'mlogloss'. Explicitly set eval_metric if you'd like to restore the old behavior.\n",
      "[21:11:37] WARNING: /Users/runner/work/xgboost/xgboost/src/learner.cc:1115: Starting in XGBoost 1.3.0, the default evaluation metric used with the objective 'multi:softprob' was changed from 'merror' to 'mlogloss'. Explicitly set eval_metric if you'd like to restore the old behavior.\n",
      "[21:11:39] WARNING: /Users/runner/work/xgboost/xgboost/src/learner.cc:1115: Starting in XGBoost 1.3.0, the default evaluation metric used with the objective 'multi:softprob' was changed from 'merror' to 'mlogloss'. Explicitly set eval_metric if you'd like to restore the old behavior.\n",
      "[21:11:42] WARNING: /Users/runner/work/xgboost/xgboost/src/learner.cc:1115: Starting in XGBoost 1.3.0, the default evaluation metric used with the objective 'multi:softprob' was changed from 'merror' to 'mlogloss'. Explicitly set eval_metric if you'd like to restore the old behavior.\n",
      "[21:11:44] WARNING: /Users/runner/work/xgboost/xgboost/src/learner.cc:1115: Starting in XGBoost 1.3.0, the default evaluation metric used with the objective 'multi:softprob' was changed from 'merror' to 'mlogloss'. Explicitly set eval_metric if you'd like to restore the old behavior.\n",
      "Accuracy: 0.500 (0.011)\n"
     ]
    }
   ],
   "source": [
    "scores = cross_val_score(clf, X, y, cv=KFold(n_splits=10, random_state=42, shuffle=True))\n",
    "print('Accuracy: %.3f (%.3f)' % (mean(scores), std(scores)))"
   ]
  },
  {
   "cell_type": "markdown",
   "metadata": {},
   "source": [
    "## AutoML"
   ]
  },
  {
   "cell_type": "code",
   "execution_count": 19,
   "metadata": {},
   "outputs": [
    {
     "name": "stdout",
     "output_type": "stream",
     "text": [
      "[WARNING] [2022-02-22 21:27:55,284:Client-Validation] AutoPyTorch previously received features of type <class 'numpy.ndarray'> yet the current features have type <class 'pandas.core.frame.DataFrame'>. Changing the dtype of inputs to an estimator might cause problems\n",
      "[WARNING] [2022-02-22 21:27:55,346:Client-Validation] AutoPyTorch previously received features of type <class 'numpy.ndarray'> yet the current features have type <class 'pandas.core.frame.DataFrame'>. Changing the dtype of inputs to an estimator might cause problems\n",
      "[ERROR] [2022-02-22 21:36:18,311:Client-AutoPyTorch:88c08954-9415-11ec-8a11-1e00d1011f4a:1] Traditional prediction for lgb failed with run state StatusType.TIMEOUT.\n",
      "Additional info:\n",
      "error: Timeout\n",
      "configuration_origin: traditional\n",
      "Accuracy score {'accuracy': 0.5411323115420706}\n"
     ]
    }
   ],
   "source": [
    "from autoPyTorch.api.tabular_classification import TabularClassificationTask\n",
    "\n",
    "# initialise Auto-PyTorch api\n",
    "api = TabularClassificationTask()\n",
    "\n",
    "# Search for an ensemble of machine learning algorithms\n",
    "api.search(\n",
    "    X_train=X_train,\n",
    "    y_train=y_train,\n",
    "    X_test=X_test,\n",
    "    y_test=y_test,\n",
    "    optimize_metric='accuracy',\n",
    "    total_walltime_limit=3000,\n",
    "    func_eval_time_limit_secs=500\n",
    ")\n",
    "\n",
    "# Calculate test accuracy\n",
    "y_pred = api.predict(X_test)\n",
    "score = api.score(y_pred, y_test)\n",
    "print(\"Accuracy score\", score)"
   ]
  },
  {
   "cell_type": "code",
   "execution_count": 20,
   "metadata": {},
   "outputs": [
    {
     "name": "stdout",
     "output_type": "stream",
     "text": [
      "[[ 461    0  475]\n",
      " [ 207    0  584]\n",
      " [ 201    0 1269]]\n",
      "              precision    recall  f1-score   support\n",
      "\n",
      "           A       0.53      0.49      0.51       936\n",
      "           D       0.00      0.00      0.00       791\n",
      "           H       0.55      0.86      0.67      1470\n",
      "\n",
      "    accuracy                           0.54      3197\n",
      "   macro avg       0.36      0.45      0.39      3197\n",
      "weighted avg       0.41      0.54      0.46      3197\n",
      "\n"
     ]
    }
   ],
   "source": [
    "from sklearn.metrics import confusion_matrix, classification_report\n",
    "\n",
    "print(confusion_matrix(y_test, y_pred))\n",
    "print(classification_report(y_test, y_pred))"
   ]
  },
  {
   "cell_type": "markdown",
   "metadata": {},
   "source": [
    "# Conclusion\n",
    "After a lot of algo research and tuning, autoML with pytorch is the best algo for this competition. The margin is small, just 0.01 and no cross validation is performed."
   ]
  },
  {
   "cell_type": "markdown",
   "metadata": {},
   "source": [
    "After interpreting the confusion matrix and taking into account the fact that the target is imbalanced, it seems that no model is particularly good for this competition."
   ]
  },
  {
   "cell_type": "markdown",
   "metadata": {},
   "source": []
  }
 ],
 "metadata": {
  "interpreter": {
   "hash": "3067ead486e059ec00ffe7555bdb889e6e264a24dc711bf108106cc7baee8d5d"
  },
  "kernelspec": {
   "display_name": "Python 3.8.8 ('base')",
   "language": "python",
   "name": "python3"
  },
  "language_info": {
   "codemirror_mode": {
    "name": "ipython",
    "version": 3
   },
   "file_extension": ".py",
   "mimetype": "text/x-python",
   "name": "python",
   "nbconvert_exporter": "python",
   "pygments_lexer": "ipython3",
   "version": "3.9.9"
  },
  "orig_nbformat": 4
 },
 "nbformat": 4,
 "nbformat_minor": 2
}
